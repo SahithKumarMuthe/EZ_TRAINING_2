{
 "cells": [
  {
   "cell_type": "code",
   "execution_count": 32,
   "id": "e23e882d",
   "metadata": {},
   "outputs": [
    {
     "name": "stdout",
     "output_type": "stream",
     "text": [
      "7\n"
     ]
    },
    {
     "data": {
      "text/plain": [
       "127"
      ]
     },
     "execution_count": 32,
     "metadata": {},
     "output_type": "execute_result"
    }
   ],
   "source": [
    "def TOH(n, src, aux, dest,c):\n",
    "    if n <= 1:\n",
    "        return c+1\n",
    "    c=TOH(n-1, 'src', 'dest', 'aux',c)\n",
    "    c+=1\n",
    "    c=TOH(n-1, 'aux', 'src', 'dest',c)\n",
    "    return c\n",
    "n = int(input())\n",
    "TOH(n, 'src', 'aux', 'dest',0)"
   ]
  },
  {
   "cell_type": "code",
   "execution_count": 39,
   "id": "39e1efb4",
   "metadata": {},
   "outputs": [
    {
     "name": "stdout",
     "output_type": "stream",
     "text": [
      "7\n",
      "127\n"
     ]
    }
   ],
   "source": [
    "def count(n):\n",
    "    if n == 1:\n",
    "        return 1 \n",
    "    return 2*count(n-1)+1\n",
    "    \n",
    "    \n",
    "ans = count(3)\n",
    "print(ans)\n",
    "print((2**n) - 1)"
   ]
  },
  {
   "cell_type": "code",
   "execution_count": 44,
   "id": "c24af641",
   "metadata": {},
   "outputs": [],
   "source": [
    "def check_magic_square(arr):\n",
    "\n",
    "    for row in arr:\n",
    "        if sum(row) != 15:\n",
    "            return False\n",
    "    for i in range(len(arr)):\n",
    "        temp = 0\n",
    "        for j in range(len(arr)):\n",
    "            temp += arr[j][i]\n",
    "        if temp != 15:\n",
    "            return False\n",
    "    for i in range(len(arr)):\n",
    "        for j in range(len(arr)):\n",
    "            if i == j:\n",
    "                temp += arr[i][j]\n",
    "    if temp != 15:\n",
    "        return False\n",
    "\n",
    "\n",
    "    i=0\n",
    "    j=n-1\n",
    "    while i < n and j >=0:\n",
    "        temp += arr[i][j]\n",
    "        i += 1\n",
    "        j -= 1\n",
    "    if temp != 15:\n",
    "        return False\n",
    "\n",
    "    return True\n",
    "\n"
   ]
  },
  {
   "cell_type": "code",
   "execution_count": 47,
   "id": "29cc0ac0",
   "metadata": {},
   "outputs": [
    {
     "name": "stdout",
     "output_type": "stream",
     "text": [
      "3\n",
      "8,1,6\n",
      "3,5,7\n",
      "4,9,2\n",
      "False\n"
     ]
    }
   ],
   "source": [
    "arr=[]\n",
    "n=int(input())\n",
    "for i in range(n):\n",
    "    l=list(map(int,input().split(',')))\n",
    "    arr.append(l)\n",
    "print(check_magic_square(arr))"
   ]
  },
  {
   "cell_type": "code",
   "execution_count": 49,
   "id": "d3518dd4",
   "metadata": {},
   "outputs": [
    {
     "name": "stdout",
     "output_type": "stream",
     "text": [
      "5\n",
      "[9, 3, 22, 16, 15]\n",
      "[2, 21, 20, 14, 8]\n",
      "[25, 19, 13, 7, 1]\n",
      "[18, 12, 6, 5, 24]\n",
      "[11, 10, 4, 23, 17]\n"
     ]
    }
   ],
   "source": [
    "def generate(n):\n",
    "    arr = [[0 for i in range(n)] for j in range(n)]\n",
    "    i = n//2\n",
    "    j = n-1\n",
    "    num = 1\n",
    "    while num <= (n*n):\n",
    "        if i < 0 and j > n-1: #3rd condt\n",
    "            i = 0\n",
    "            j = n-2\n",
    "        else:\n",
    "            if i<0:\n",
    "                i = n-1\n",
    "            if j > n-1:\n",
    "                j = 0\n",
    "        if arr[i][j] != 0:\n",
    "            i += 1 \n",
    "            j -= 2 \n",
    "            continue\n",
    "        else:\n",
    "            arr[i][j] = num\n",
    "            num = num+1\n",
    "        i = i-1\n",
    "        j = j+1\n",
    "        \n",
    "    for row in arr:\n",
    "        print(row)\n",
    "    \n",
    "    \n",
    "n = int(input())\n",
    "generate(n)"
   ]
  },
  {
   "cell_type": "code",
   "execution_count": null,
   "id": "33380d5e",
   "metadata": {},
   "outputs": [],
   "source": []
  }
 ],
 "metadata": {
  "kernelspec": {
   "display_name": "Python 3 (ipykernel)",
   "language": "python",
   "name": "python3"
  },
  "language_info": {
   "codemirror_mode": {
    "name": "ipython",
    "version": 3
   },
   "file_extension": ".py",
   "mimetype": "text/x-python",
   "name": "python",
   "nbconvert_exporter": "python",
   "pygments_lexer": "ipython3",
   "version": "3.11.4"
  }
 },
 "nbformat": 4,
 "nbformat_minor": 5
}
