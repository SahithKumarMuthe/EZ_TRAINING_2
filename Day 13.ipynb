{
 "cells": [
  {
   "cell_type": "markdown",
   "id": "0715dddd",
   "metadata": {},
   "source": [
    "# String Problems"
   ]
  },
  {
   "cell_type": "markdown",
   "id": "5bd75834",
   "metadata": {},
   "source": [
    "1) count number of palindrome substring\n",
    "\n",
    "2) count longest palindrome substring\n",
    "\n",
    "3) smallest palindromic substring which is not 1 in length"
   ]
  },
  {
   "cell_type": "markdown",
   "id": "8ac81b4f",
   "metadata": {},
   "source": [
    "for given string with length n it has n*(n+1)/2 substrings"
   ]
  },
  {
   "cell_type": "code",
   "execution_count": 40,
   "id": "a8cce0c4",
   "metadata": {},
   "outputs": [],
   "source": [
    "def is_palindrome(s):\n",
    "    if s[::-1]==s:\n",
    "        return True\n",
    "    return False"
   ]
  },
  {
   "cell_type": "code",
   "execution_count": 45,
   "id": "2209e851",
   "metadata": {},
   "outputs": [],
   "source": [
    "#count number of plaindromes\n",
    "def count_palindromes(s):\n",
    "    count=0\n",
    "    for i in range(len(s)):\n",
    "        for j in range(i+1,len(s)):\n",
    "            if is_palindrome(s[i:j+1])==True:\n",
    "                count+=1\n",
    "    return count+len(s)"
   ]
  },
  {
   "cell_type": "code",
   "execution_count": 46,
   "id": "749454b6",
   "metadata": {},
   "outputs": [
    {
     "name": "stdout",
     "output_type": "stream",
     "text": [
      "7\n"
     ]
    }
   ],
   "source": [
    "s=\"madam\"\n",
    "print(count_palindromes(s))"
   ]
  },
  {
   "cell_type": "code",
   "execution_count": 33,
   "id": "e4475623",
   "metadata": {},
   "outputs": [
    {
     "name": "stdout",
     "output_type": "stream",
     "text": [
      "True\n"
     ]
    }
   ],
   "source": [
    "str = \"madam\"\n",
    "print(str[::-1]==str)"
   ]
  },
  {
   "cell_type": "code",
   "execution_count": 85,
   "id": "c7213d0e",
   "metadata": {},
   "outputs": [],
   "source": [
    "def count_longest_palindromes(s):\n",
    "    max_palindrome=list()\n",
    "    for i in range(len(s)):\n",
    "        for j in range(i+1,len(s)):\n",
    "            if is_palindrome(s[i:j+1])==True and len(s)>1 and len(s[i:j+1])!=len(s):\n",
    "                max_palindrome.append(s[i:j+1])\n",
    "    max=0\n",
    "    for i  in range(1,len(max_palindrome)):\n",
    "        if len(max_palindrome[i-1])<len(max_palindrome[i]):\n",
    "            max=i\n",
    "        \n",
    "        \n",
    "    return max_palindrome[max]"
   ]
  },
  {
   "cell_type": "code",
   "execution_count": 86,
   "id": "550bc091",
   "metadata": {},
   "outputs": [
    {
     "name": "stdout",
     "output_type": "stream",
     "text": [
      "madam\n"
     ]
    }
   ],
   "source": [
    "s=\"madammadam\"\n",
    "print(count_longest_palindromes(s))\n"
   ]
  },
  {
   "cell_type": "code",
   "execution_count": 89,
   "id": "7f7d4c06",
   "metadata": {},
   "outputs": [
    {
     "name": "stdout",
     "output_type": "stream",
     "text": [
      "True\n",
      "True\n",
      "False\n"
     ]
    }
   ],
   "source": [
    "s=\"madammadam\"\n",
    "queries=[[0,4],[1,3],[1,2]]\n",
    "for i in queries:\n",
    "    if is_palindrome(s[i[0]:i[1]+1]):\n",
    "        print('True')\n",
    "    else:\n",
    "        print('False')"
   ]
  },
  {
   "cell_type": "markdown",
   "id": "385a841e",
   "metadata": {},
   "source": [
    "## how may unique positions"
   ]
  },
  {
   "cell_type": "code",
   "execution_count": 120,
   "id": "26326c95",
   "metadata": {},
   "outputs": [
    {
     "name": "stdout",
     "output_type": "stream",
     "text": [
      "[0, 0, 0, 0, 0, 0, 0, 0, 0, 0, 0, 0, 0, 0, 0, 0, 0]\n",
      "moved to  0\n",
      "moved to  3\n",
      "[1, 0, 0, 1, 0, 0, 0, 0, 0, 0, 0, 0, 0, 0, 0, 0, 0]\n",
      "moved to  1\n",
      "[1, 1, 0, 1, 0, 0, 0, 0, 0, 0, 0, 0, 0, 0, 0, 0, 0]\n",
      "moved to  5\n",
      "[1, 1, 0, 1, 0, 1, 0, 0, 0, 0, 0, 0, 0, 0, 0, 0, 0]\n",
      "moved to  3\n",
      "moved to  7\n",
      "[1, 1, 0, 1, 0, 1, 0, 1, 0, 0, 0, 0, 0, 0, 0, 0, 0]\n",
      "moved to  5\n",
      "moved to  6\n",
      "[1, 1, 0, 1, 0, 1, 1, 1, 0, 0, 0, 0, 0, 0, 0, 0, 0]\n",
      "moved to  10\n",
      "[1, 1, 0, 1, 0, 1, 1, 1, 0, 0, 1, 0, 0, 0, 0, 0, 0]\n",
      "moved to  8\n",
      "[1, 1, 0, 1, 0, 1, 1, 1, 1, 0, 1, 0, 0, 0, 0, 0, 0]\n",
      "moved to  9\n",
      "[1, 1, 0, 1, 0, 1, 1, 1, 1, 1, 1, 0, 0, 0, 0, 0, 0]\n",
      "moved to  13\n",
      "[1, 1, 0, 1, 0, 1, 1, 1, 1, 1, 1, 0, 0, 1, 0, 0, 0]\n",
      "moved to  11\n",
      "[1, 1, 0, 1, 0, 1, 1, 1, 1, 1, 1, 1, 0, 1, 0, 0, 0]\n",
      "moved to  15\n",
      "[1, 1, 0, 1, 0, 1, 1, 1, 1, 1, 1, 1, 0, 1, 0, 1, 0]\n",
      "moved to  13\n",
      "moved to  15\n",
      "moved to  15\n",
      "[1, 1, 0, 1, 0, 1, 1, 1, 1, 1, 1, 1, 0, 1, 0, 1, 0]\n"
     ]
    }
   ],
   "source": [
    "def count_unique_positions(s,i):\n",
    "    steps=[0]*len(s)\n",
    "    uniquesteps=[]\n",
    "    print(steps)\n",
    "    steps[i]=1\n",
    "    for i in range(len(s)):\n",
    "        if s[i]=='b':\n",
    "            if i-1>=0:\n",
    "                i-=1\n",
    "                \n",
    "        else:\n",
    "            if i+2<len(s):\n",
    "                i+=2\n",
    "        print('moved to ',i)\n",
    "        \n",
    "        if steps[i]==0:\n",
    "            steps[i]=1\n",
    "            print(steps)\n",
    "        \n",
    "    return steps\n",
    "s='bfbfbfbbfbbfbfbfb'\n",
    "print(count_unique_positions(s,0))"
   ]
  },
  {
   "cell_type": "code",
   "execution_count": 119,
   "id": "28898816",
   "metadata": {},
   "outputs": [
    {
     "name": "stdout",
     "output_type": "stream",
     "text": [
      "12\n"
     ]
    }
   ],
   "source": [
    "def count_positions(s,start):\n",
    "    steps=set()\n",
    "    for i in range(start,len(s)):\n",
    "        if s[i]=='b':\n",
    "            if i-1>=0:\n",
    "                i-=1\n",
    "        else:\n",
    "            if i+2<len(s):\n",
    "                i+=2\n",
    "        steps.add(i)\n",
    "    return len(steps)\n",
    "print(count_positions('bfbfbfbbfbbfbfbfb',0))"
   ]
  },
  {
   "cell_type": "code",
   "execution_count": 3,
   "id": "c4f13d7a",
   "metadata": {},
   "outputs": [
    {
     "name": "stdout",
     "output_type": "stream",
     "text": [
      "42\n"
     ]
    }
   ],
   "source": [
    "n=16\n",
    "dp=[-100 for i in range(n+1)]\n",
    "def optimized_fun(n):\n",
    "    global dp\n",
    "    if dp[n]!=-100:\n",
    "        return dp[n]\n",
    "    if n<=2:\n",
    "        dp[n]=n\n",
    "        return n\n",
    "    ans1=optimized_fun(n-2)\n",
    "    ans2=optimized_fun(n-4)\n",
    "    dp[n-2]=ans1\n",
    "    dp[n-4]=ans2\n",
    "    return ans1+ans2\n",
    "print(optimized_fun(n))"
   ]
  },
  {
   "cell_type": "code",
   "execution_count": null,
   "id": "94666ad9",
   "metadata": {},
   "outputs": [],
   "source": []
  }
 ],
 "metadata": {
  "kernelspec": {
   "display_name": "Python 3 (ipykernel)",
   "language": "python",
   "name": "python3"
  },
  "language_info": {
   "codemirror_mode": {
    "name": "ipython",
    "version": 3
   },
   "file_extension": ".py",
   "mimetype": "text/x-python",
   "name": "python",
   "nbconvert_exporter": "python",
   "pygments_lexer": "ipython3",
   "version": "3.11.4"
  }
 },
 "nbformat": 4,
 "nbformat_minor": 5
}
