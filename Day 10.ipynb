{
 "cells": [
  {
   "cell_type": "markdown",
   "id": "6528883a",
   "metadata": {},
   "source": [
    "# generate otp"
   ]
  },
  {
   "cell_type": "code",
   "execution_count": 7,
   "id": "94968ed9",
   "metadata": {},
   "outputs": [],
   "source": [
    "def sep_odd(input_string):\n",
    "    oddstring=\" \"\n",
    "    for i in range(len(input_string)):\n",
    "        if i%2!=0:\n",
    "            oddstring=oddstring+str(int(input_string[i])**2)\n",
    "    return oddstring\n",
    "    \n"
   ]
  },
  {
   "cell_type": "code",
   "execution_count": 11,
   "id": "07a46928",
   "metadata": {},
   "outputs": [
    {
     "name": "stdout",
     "output_type": "stream",
     "text": [
      "7564168\n",
      " 2516\n"
     ]
    }
   ],
   "source": [
    "s=input()\n",
    "print(sep_odd(s)[:5:])"
   ]
  },
  {
   "cell_type": "code",
   "execution_count": 63,
   "id": "ab5473a2",
   "metadata": {},
   "outputs": [],
   "source": [
    "def name_code(l):\n",
    "    op=''\n",
    "    for i in l:\n",
    "        nc=i.split(\":\")\n",
    "        name=nc[0]\n",
    "        code=nc[1]\n",
    "        max=0\n",
    "        for i in code:\n",
    "            if int(i)>max and int(i)<=len(name):\n",
    "                max=int(i)\n",
    "        if max==0:\n",
    "            op+='X'\n",
    "        else:\n",
    "            op+=name[max-1]\n",
    "    return op\n",
    "        "
   ]
  },
  {
   "cell_type": "code",
   "execution_count": 64,
   "id": "ed263afc",
   "metadata": {},
   "outputs": [
    {
     "name": "stdout",
     "output_type": "stream",
     "text": [
      "chandana:99999,mani:1234\n",
      "Xi\n"
     ]
    }
   ],
   "source": [
    "l=list(input().split(\",\"))\n",
    "print(name_code(l))"
   ]
  },
  {
   "cell_type": "code",
   "execution_count": 60,
   "id": "08761a65",
   "metadata": {},
   "outputs": [
    {
     "name": "stdout",
     "output_type": "stream",
     "text": [
      "abhishek:12348,mani:6789,chandana:1234\n",
      "kXn\n"
     ]
    }
   ],
   "source": [
    "def code(d):\n",
    "    res=\"\"\n",
    "    keys=list(d.keys())\n",
    "    values=list(d.values())\n",
    "    for i in range(len(d)):\n",
    "        str1=list(keys[i])\n",
    "        strlen=len(keys[i])\n",
    "        lst=[]\n",
    "        for j in values[i]:\n",
    "            if int(j)<=strlen:\n",
    "                lst.append(j)\n",
    "        if len(lst)<=0:\n",
    "            res=res+'X'\n",
    "            \n",
    "        else:\n",
    "            max_index=max(map(int,lst))\n",
    "            res=res+str1[max_index-1]\n",
    "            \n",
    "    return res\n",
    "l=list(input().split(\",\"))\n",
    "d={}\n",
    "for i in l:\n",
    "    a,value=i.split(\":\")\n",
    "    d[a]=value\n",
    "print(code(d))"
   ]
  },
  {
   "cell_type": "code",
   "execution_count": 75,
   "id": "4f26baf3",
   "metadata": {},
   "outputs": [
    {
     "name": "stdout",
     "output_type": "stream",
     "text": [
      "()({}{)\n",
      "7\n"
     ]
    }
   ],
   "source": [
    "def paranthesis_check(l):\n",
    "    braces={'{':'}','[':']','(':')'}\n",
    "    c=0\n",
    "    bstack=[]\n",
    "    for i in l:\n",
    "        if i in braces.keys():\n",
    "            bstack.append(i)\n",
    "            c+=1\n",
    "        if i in braces.values():\n",
    "            if len(bstack)==0:\n",
    "                return c+1\n",
    "            ele=bstack.pop()\n",
    "            if braces.get(ele)!=i:\n",
    "                return c+1\n",
    "            else:\n",
    "                c+=1\n",
    "    if len(bstack)==0:\n",
    "        return 0\n",
    "    return c+1\n",
    "s=input()\n",
    "l=[i for i in s]\n",
    "print(paranthesis_check(s))\n",
    "            \n",
    "\n",
    "    \n",
    "        \n",
    "        \n",
    "        \n"
   ]
  },
  {
   "cell_type": "code",
   "execution_count": 3,
   "id": "1d6a69be",
   "metadata": {},
   "outputs": [
    {
     "name": "stdout",
     "output_type": "stream",
     "text": [
      "ch#andana\n",
      "an#adnahc\n"
     ]
    }
   ],
   "source": [
    "def string_reverse(s):\n",
    "    rs=[]\n",
    "    for i in s:\n",
    "        if i.isalpha():\n",
    "            rs.append(i)\n",
    "        else:\n",
    "            index=s.index(i)\n",
    "            char=i\n",
    "    rs.reverse()\n",
    "    rs.insert(index,char)\n",
    "    return \"\".join(rs)\n",
    "    \n",
    "    \n",
    "s=input()\n",
    "print(string_reverse(s))"
   ]
  },
  {
   "cell_type": "code",
   "execution_count": 9,
   "id": "ac771e24",
   "metadata": {},
   "outputs": [],
   "source": [
    "def add(l):\n",
    "    index4=l.index(4)\n",
    "    index7=l.index(7)\n",
    "    l1=l[:index4]+l[index7+1::]\n",
    "    l2=[str(l[i]) for i in range(index4,index7+1)]\n",
    "    return sum(l1)+int(\"\".join(l2))\n",
    "\n",
    "                        "
   ]
  },
  {
   "cell_type": "code",
   "execution_count": 10,
   "id": "63952449",
   "metadata": {},
   "outputs": [
    {
     "name": "stdout",
     "output_type": "stream",
     "text": [
      "2,5,1,4,3,2,7,8\n",
      "4343\n"
     ]
    }
   ],
   "source": [
    "lst=list(map(int,input().split(',')))\n",
    "print(add(lst))"
   ]
  },
  {
   "cell_type": "markdown",
   "id": "843f51d8",
   "metadata": {},
   "source": [
    "# two sum problem"
   ]
  },
  {
   "cell_type": "code",
   "execution_count": 6,
   "id": "91a4ca46",
   "metadata": {},
   "outputs": [],
   "source": [
    "def two_sum(l,target):\n",
    "    i=0\n",
    "    j=len(l)-1\n",
    "    while i!=j:\n",
    "        if l[i]+l[j]>target:\n",
    "            j-=1\n",
    "        elif l[i]+l[j]<target:\n",
    "            i+=1\n",
    "        else:\n",
    "            return i+1,j+1\n",
    "    return -1\n",
    "\n",
    "        "
   ]
  },
  {
   "cell_type": "code",
   "execution_count": 7,
   "id": "e08d4170",
   "metadata": {},
   "outputs": [
    {
     "name": "stdout",
     "output_type": "stream",
     "text": [
      "array elements : 2 3 5 7 10 12 15 20\n",
      "target : 19\n",
      "(4, 6)\n"
     ]
    }
   ],
   "source": [
    "l=list(map(int,input(\"array elements : \").split()))\n",
    "n=int(input(\"target : \"))\n",
    "print(two_sum(l,n))\n"
   ]
  },
  {
   "cell_type": "markdown",
   "id": "c9770141",
   "metadata": {},
   "source": [
    "# return floor value if element not found in the list\n"
   ]
  },
  {
   "cell_type": "code",
   "execution_count": 10,
   "id": "6de713d0",
   "metadata": {},
   "outputs": [],
   "source": [
    "def binary_floor_search(l,target):\n",
    "    left=0\n",
    "    right=len(l)-1\n",
    "    while left<=right:\n",
    "        mid=(left+right)//2\n",
    "        if l[mid]==target:\n",
    "            return l[mid]\n",
    "        elif l[mid]<target:\n",
    "            floor=l[mid]\n",
    "            left=mid+1\n",
    "        else:\n",
    "            right=mid-1\n",
    "    return floor\n"
   ]
  },
  {
   "cell_type": "code",
   "execution_count": 11,
   "id": "51688d42",
   "metadata": {},
   "outputs": [
    {
     "name": "stdout",
     "output_type": "stream",
     "text": [
      "array elements : 1 2 3 4 6 8 9\n",
      "target : 7\n",
      "6\n"
     ]
    }
   ],
   "source": [
    "l=list(map(int,input(\"array elements : \").split()))\n",
    "n=int(input(\"target : \"))\n",
    "print(binary_floor_search(l,n))\n"
   ]
  },
  {
   "cell_type": "markdown",
   "id": "49e31938",
   "metadata": {},
   "source": [
    "# return ceil value if element not founf in the list"
   ]
  },
  {
   "cell_type": "code",
   "execution_count": 12,
   "id": "d49a95bd",
   "metadata": {},
   "outputs": [],
   "source": [
    "def binary_ceil_search(l,target):\n",
    "    left=0\n",
    "    right=len(l)-1\n",
    "    while left<=right:\n",
    "        mid=(left+right)//2\n",
    "        if l[mid]==target:\n",
    "            return l[mid]\n",
    "        elif l[mid]<target:\n",
    "            \n",
    "            left=mid+1\n",
    "        else:\n",
    "            ceil=l[mid]\n",
    "            right=mid-1\n",
    "    \n",
    "    return ceil\n"
   ]
  },
  {
   "cell_type": "code",
   "execution_count": 15,
   "id": "4d991ef7",
   "metadata": {},
   "outputs": [
    {
     "name": "stdout",
     "output_type": "stream",
     "text": [
      "array elements : 1 2 3 4 5 6 7 8\n",
      "target : 2.5\n",
      "3\n"
     ]
    }
   ],
   "source": [
    "l=list(map(int,input(\"array elements : \").split()))\n",
    "n=float(input(\"target : \"))\n",
    "print(binary_ceil_search(l,n))\n"
   ]
  },
  {
   "cell_type": "code",
   "execution_count": 4,
   "id": "c842176e",
   "metadata": {},
   "outputs": [],
   "source": [
    "def atleast_ktimes(l,n,k):\n",
    "    res=0 \n",
    "    s=set(l)\n",
    "    for i in s:\n",
    "        c=0\n",
    "        for j in range(n):\n",
    "            if l[j]==i:\n",
    "                c+=1\n",
    "        if c>=k:\n",
    "            res+=1\n",
    "    return \"\".join(str(res))\n",
    "            \n",
    "        \n",
    "        \n",
    "        \n",
    "        "
   ]
  },
  {
   "cell_type": "code",
   "execution_count": 5,
   "id": "b3a849ff",
   "metadata": {},
   "outputs": [
    {
     "name": "stdout",
     "output_type": "stream",
     "text": [
      "enter no of eleemts and target count5 2\n",
      "enter array elements\n",
      "3\n",
      "1\n",
      "3\n",
      "5\n",
      "4\n",
      "1\n"
     ]
    }
   ],
   "source": [
    "input1=input(\"enter no of eleemts and target count\").split()\n",
    "n,k=int(input1[0]),int(input1[1])\n",
    "l=[]\n",
    "print(\"enter array elements\")\n",
    "for i in range(n):\n",
    "     l.append(int(input()))\n",
    "print(atleast_ktimes(l,n,k))"
   ]
  },
  {
   "cell_type": "code",
   "execution_count": null,
   "id": "cc4aec93",
   "metadata": {},
   "outputs": [],
   "source": [
    "\n",
    "    "
   ]
  }
 ],
 "metadata": {
  "kernelspec": {
   "display_name": "Python 3 (ipykernel)",
   "language": "python",
   "name": "python3"
  },
  "language_info": {
   "codemirror_mode": {
    "name": "ipython",
    "version": 3
   },
   "file_extension": ".py",
   "mimetype": "text/x-python",
   "name": "python",
   "nbconvert_exporter": "python",
   "pygments_lexer": "ipython3",
   "version": "3.11.4"
  }
 },
 "nbformat": 4,
 "nbformat_minor": 5
}
