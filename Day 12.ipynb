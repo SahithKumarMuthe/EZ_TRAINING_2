{
 "cells": [
  {
   "cell_type": "markdown",
   "id": "1dd89a15",
   "metadata": {},
   "source": [
    "# HashMap"
   ]
  },
  {
   "cell_type": "code",
   "execution_count": 1,
   "id": "6ee6edb7",
   "metadata": {},
   "outputs": [
    {
     "ename": "TypeError",
     "evalue": "unsupported operand type(s) for ^: 'list' and 'list'",
     "output_type": "error",
     "traceback": [
      "\u001b[1;31m---------------------------------------------------------------------------\u001b[0m",
      "\u001b[1;31mTypeError\u001b[0m                                 Traceback (most recent call last)",
      "Cell \u001b[1;32mIn[1], line 3\u001b[0m\n\u001b[0;32m      1\u001b[0m a\u001b[38;5;241m=\u001b[39m[\u001b[38;5;241m1\u001b[39m,\u001b[38;5;241m2\u001b[39m,\u001b[38;5;241m3\u001b[39m,\u001b[38;5;241m4\u001b[39m,\u001b[38;5;241m5\u001b[39m,\u001b[38;5;241m6\u001b[39m,\u001b[38;5;241m7\u001b[39m,\u001b[38;5;241m8\u001b[39m,\u001b[38;5;241m9\u001b[39m]\n\u001b[0;32m      2\u001b[0m b\u001b[38;5;241m=\u001b[39m[\u001b[38;5;241m1\u001b[39m,\u001b[38;5;241m2\u001b[39m,\u001b[38;5;241m3\u001b[39m,\u001b[38;5;241m4\u001b[39m,\u001b[38;5;241m5\u001b[39m,\u001b[38;5;241m6\u001b[39m,\u001b[38;5;241m7\u001b[39m,\u001b[38;5;241m8\u001b[39m]\n\u001b[1;32m----> 3\u001b[0m \u001b[38;5;28mprint\u001b[39m(a\u001b[38;5;241m^\u001b[39mb)\n",
      "\u001b[1;31mTypeError\u001b[0m: unsupported operand type(s) for ^: 'list' and 'list'"
     ]
    }
   ],
   "source": [
    "a=[1,2,3,4,5,6,7,8,9]\n",
    "b=[1,2,3,4,5,6,7,8]\n",
    "print(a^b)"
   ]
  },
  {
   "cell_type": "code",
   "execution_count": 11,
   "id": "3c671519",
   "metadata": {},
   "outputs": [
    {
     "name": "stdout",
     "output_type": "stream",
     "text": [
      "11\n"
     ]
    }
   ],
   "source": [
    "def xora(l): \n",
    "    ans=0\n",
    "    for i in range(len(l)):\n",
    "        ans=ans^l[i]\n",
    "    return ans\n",
    "print(xora([2,1,4,6,3,5,7,8,9,10]))\n"
   ]
  },
  {
   "cell_type": "code",
   "execution_count": null,
   "id": "7a8eeb10",
   "metadata": {},
   "outputs": [],
   "source": [
    "def sub_set_sum(l,s,e):\n",
    "    print(s,e)\n",
    "    for i in range(s,e):\n",
    "        for j in range(i+1,e):\n",
    "            print(l[i:j+1])\n",
    "            print(sum(l[i:j+1]))\n",
    "l=list(map(int,input().split()))\n",
    "query=[]\n",
    "a=list(map(int,input().split()))\n",
    "while len(a)!=0:\n",
    "    query.append(a)\n",
    "    a=list(map(int,input().split()))\n",
    "    \n",
    "for i in query:\n",
    "    print(\"sum of sub lists from indices\", i[0],\"to\",i[1])\n",
    "    sub_set_sum(l,i[0],i[1])\n",
    "    "
   ]
  },
  {
   "cell_type": "code",
   "execution_count": null,
   "id": "c652d317",
   "metadata": {},
   "outputs": [],
   "source": [
    "        \n",
    "l=list(map(int,input(\"enter list elements\").split()))\n",
    "n=len(l)\n",
    "prefix_sum=l\n",
    "query=[]\n",
    "print(\"enter sub list indices \")\n",
    "\n",
    "while len(a)!=0:\n",
    "    query.append(a)\n",
    "    print(\"enter sub list indices if required or hit enter to get answer \")\n",
    "    a=list(map(int,input().split()))\n",
    "for i in range(1,len(l)):\n",
    "    prefix_sum[i]+=prefix_sum[i-1]\n",
    "print(prefix_sum,\"\\n\",queries)\n",
    "for i in query:\n",
    "    print(\"sum of sub lists from indices\", i[0],\"to\",i[1])\n",
    "    if i[0]>0:\n",
    "        print(prefix_sum[i[1]]-prefix_sum[i[0]-1])\n",
    "    else:\n",
    "        print(prefix_sum[i[1]])"
   ]
  },
  {
   "cell_type": "code",
   "execution_count": 12,
   "id": "0e67a66b",
   "metadata": {},
   "outputs": [
    {
     "name": "stdout",
     "output_type": "stream",
     "text": [
      "enter size of sub-set :3\n",
      "enter array elements-3 -2 -19 16 6 -3 15 9 -17 2 \n",
      "21\n"
     ]
    }
   ],
   "source": [
    "def sliding_window(arr,k):\n",
    "    _sum = 0\n",
    "    i,j = 0,k-1\n",
    "    while j<len(arr):\n",
    "        if i==0:\n",
    "            _sum = sum(arr[i:j+1])\n",
    "            ps = _sum\n",
    "        else:\n",
    "            cs = ps - arr[i-1]+arr[j]\n",
    "            _sum = max(_sum,cs)\n",
    "            ps = cs\n",
    "        i+=1\n",
    "        j+=1\n",
    "    return _sum\n",
    "n=int(input(\"enter size of sub-set :\"))\n",
    "l=list(map(int,input(\"enter array elements\").split()))\n",
    "print(sliding_window(l,n))"
   ]
  },
  {
   "cell_type": "code",
   "execution_count": 13,
   "id": "aca3ec38",
   "metadata": {},
   "outputs": [
    {
     "data": {
      "text/plain": [
       "4"
      ]
     },
     "execution_count": 13,
     "metadata": {},
     "output_type": "execute_result"
    }
   ],
   "source": [
    "sum([-3 ,-2 ,-19, 16, 6 ,-3 ,15 ,9, -17, 2 ])"
   ]
  },
  {
   "cell_type": "code",
   "execution_count": 15,
   "id": "dc4c9b09",
   "metadata": {},
   "outputs": [
    {
     "name": "stdout",
     "output_type": "stream",
     "text": [
      "175\n"
     ]
    }
   ],
   "source": [
    "def kadanes(arr):\n",
    "    _sum=float(\"-inf\")\n",
    "    cs=arr[0]\n",
    "    n=len(arr)\n",
    "    for i in range(1,n):\n",
    "        if cs<0:\n",
    "            cs=0\n",
    "        \n",
    "        if arr[i]<0:\n",
    "            _sum=max(_sum,cs)\n",
    "        cs+=arr[i]\n",
    "    return max(_sum,cs)\n",
    "l=[-1,-2,3,4,-5,-6,65,110]\n",
    "print(kadanes(l))"
   ]
  },
  {
   "cell_type": "code",
   "execution_count": null,
   "id": "03777598",
   "metadata": {},
   "outputs": [],
   "source": []
  }
 ],
 "metadata": {
  "kernelspec": {
   "display_name": "Python 3 (ipykernel)",
   "language": "python",
   "name": "python3"
  },
  "language_info": {
   "codemirror_mode": {
    "name": "ipython",
    "version": 3
   },
   "file_extension": ".py",
   "mimetype": "text/x-python",
   "name": "python",
   "nbconvert_exporter": "python",
   "pygments_lexer": "ipython3",
   "version": "3.11.4"
  }
 },
 "nbformat": 4,
 "nbformat_minor": 5
}
